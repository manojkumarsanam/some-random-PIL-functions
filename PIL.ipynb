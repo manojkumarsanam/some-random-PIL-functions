{
 "cells": [
  {
   "cell_type": "code",
   "execution_count": 3,
   "metadata": {},
   "outputs": [],
   "source": [
    "from PIL import Image,ImageEnhance,ImageOps,ImageDraw,ImageFilter\n",
    "import glob"
   ]
  },
  {
   "cell_type": "code",
   "execution_count": 14,
   "metadata": {},
   "outputs": [
    {
     "name": "stdout",
     "output_type": "stream",
     "text": [
      "format:JPEG\n",
      "size:(1920, 1200)\n",
      "image mode:RGB\n"
     ]
    }
   ],
   "source": [
    "art=Image.open('Desktop/art.jpg')\n",
    "print('format:{}'.format(art.format))\n",
    "print('size:{}'.format(art.size))\n",
    "print('image mode:{}'.format(art.mode))\n",
    "art.show()"
   ]
  },
  {
   "cell_type": "code",
   "execution_count": 11,
   "metadata": {},
   "outputs": [],
   "source": [
    "rotateart=art.rotate(45)\n",
    "rotateart.show()"
   ]
  },
  {
   "cell_type": "code",
   "execution_count": 12,
   "metadata": {},
   "outputs": [],
   "source": [
    "mirror=ImageOps.mirror(art)\n",
    "mirror.show()"
   ]
  },
  {
   "cell_type": "code",
   "execution_count": 13,
   "metadata": {},
   "outputs": [],
   "source": [
    "flip=ImageOps.flip(art)\n",
    "flip.show()"
   ]
  },
  {
   "cell_type": "code",
   "execution_count": 16,
   "metadata": {},
   "outputs": [],
   "source": [
    "imagecopy=art.copy()\n",
    "ImageDraw.Draw(imagecopy).rectangle([(1700,1000),(1900,800)])\n",
    "imagecopy.show()"
   ]
  },
  {
   "cell_type": "code",
   "execution_count": 17,
   "metadata": {},
   "outputs": [],
   "source": [
    "border=ImageOps.expand(art.copy(),border=20,fill='white')\n",
    "border.show()"
   ]
  },
  {
   "cell_type": "code",
   "execution_count": 23,
   "metadata": {},
   "outputs": [],
   "source": [
    "app=Image.open('Desktop/500372.jpg')\n",
    "app.show()\n",
    "cropped=app.crop((920,560,1000,640))\n",
    "cropped.save('Desktop/app.jpg')\n",
    "cropped.show()"
   ]
  },
  {
   "cell_type": "code",
   "execution_count": 26,
   "metadata": {},
   "outputs": [],
   "source": [
    "app_blur=app.filter(ImageFilter.EMBOSS)\n",
    "app_blur.show()\n",
    "app_blur=app.filter(ImageFilter.SHARPEN)\n",
    "app_blur.show()\n",
    "app_blur=app.filter(ImageFilter.SMOOTH)\n",
    "app_blur.show()\n",
    "app_blur=app.filter(ImageFilter.FIND_EDGES)\n",
    "app_blur.show()"
   ]
  },
  {
   "cell_type": "code",
   "execution_count": 34,
   "metadata": {},
   "outputs": [],
   "source": [
    "R,G,B=art.split()\n",
    "color=Image.merge('RGB',(R,G,B\n",
    "                        ))\n",
    "color.show()"
   ]
  },
  {
   "cell_type": "code",
   "execution_count": null,
   "metadata": {},
   "outputs": [],
   "source": []
  }
 ],
 "metadata": {
  "kernelspec": {
   "display_name": "Python 3",
   "language": "python",
   "name": "python3"
  },
  "language_info": {
   "codemirror_mode": {
    "name": "ipython",
    "version": 3
   },
   "file_extension": ".py",
   "mimetype": "text/x-python",
   "name": "python",
   "nbconvert_exporter": "python",
   "pygments_lexer": "ipython3",
   "version": "3.7.6"
  }
 },
 "nbformat": 4,
 "nbformat_minor": 4
}
